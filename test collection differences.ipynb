{
 "cells": [
  {
   "cell_type": "code",
   "execution_count": 72,
   "metadata": {
    "collapsed": true
   },
   "outputs": [],
   "source": [
    "import pandas as pd\n",
    "import numpy as np"
   ]
  },
  {
   "cell_type": "code",
   "execution_count": 101,
   "metadata": {
    "collapsed": false
   },
   "outputs": [
    {
     "data": {
      "text/html": [
       "<div>\n",
       "<table border=\"1\" class=\"dataframe\">\n",
       "  <thead>\n",
       "    <tr style=\"text-align: right;\">\n",
       "      <th></th>\n",
       "      <th>test_name</th>\n",
       "      <th>module</th>\n",
       "      <th>_class</th>\n",
       "    </tr>\n",
       "  </thead>\n",
       "  <tbody>\n",
       "    <tr>\n",
       "      <th>0</th>\n",
       "      <td>test_supported_input</td>\n",
       "      <td>(bokeh.charts.builder.tests.test_area_builder....</td>\n",
       "      <td>TestAreaBuilder</td>\n",
       "    </tr>\n",
       "    <tr>\n",
       "      <th>1</th>\n",
       "      <td>test_all_negative_input</td>\n",
       "      <td>(bokeh.charts.builder.tests.test_bar_builder.T...</td>\n",
       "      <td>TestBar</td>\n",
       "    </tr>\n",
       "    <tr>\n",
       "      <th>2</th>\n",
       "      <td>test_all_positive_input</td>\n",
       "      <td>(bokeh.charts.builder.tests.test_bar_builder.T...</td>\n",
       "      <td>TestBar</td>\n",
       "    </tr>\n",
       "    <tr>\n",
       "      <th>3</th>\n",
       "      <td>test_invalid_continuous_range_raises_error</td>\n",
       "      <td>(bokeh.charts.builder.tests.test_bar_builder.T...</td>\n",
       "      <td>TestBar</td>\n",
       "    </tr>\n",
       "    <tr>\n",
       "      <th>4</th>\n",
       "      <td>test_mixed_sign_input</td>\n",
       "      <td>(bokeh.charts.builder.tests.test_bar_builder.T...</td>\n",
       "      <td>TestBar</td>\n",
       "    </tr>\n",
       "  </tbody>\n",
       "</table>\n",
       "</div>"
      ],
      "text/plain": [
       "                                    test_name  \\\n",
       "0                        test_supported_input   \n",
       "1                     test_all_negative_input   \n",
       "2                     test_all_positive_input   \n",
       "3  test_invalid_continuous_range_raises_error   \n",
       "4                       test_mixed_sign_input   \n",
       "\n",
       "                                              module           _class  \n",
       "0  (bokeh.charts.builder.tests.test_area_builder....  TestAreaBuilder  \n",
       "1  (bokeh.charts.builder.tests.test_bar_builder.T...          TestBar  \n",
       "2  (bokeh.charts.builder.tests.test_bar_builder.T...          TestBar  \n",
       "3  (bokeh.charts.builder.tests.test_bar_builder.T...          TestBar  \n",
       "4  (bokeh.charts.builder.tests.test_bar_builder.T...          TestBar  "
      ]
     },
     "execution_count": 101,
     "metadata": {},
     "output_type": "execute_result"
    }
   ],
   "source": [
    "nose = pd.read_table('nose.out', sep=' ', names=['test_name', 'module', '...', 'ok'])\n",
    "nose = nose[['test_name', 'module']]\n",
    "nose['_class'] = nose.module.str.split('.').str[-1].str[:-1]\n",
    "nose.head()"
   ]
  },
  {
   "cell_type": "code",
   "execution_count": null,
   "metadata": {
    "collapsed": true
   },
   "outputs": [],
   "source": []
  },
  {
   "cell_type": "code",
   "execution_count": null,
   "metadata": {
    "collapsed": true
   },
   "outputs": [],
   "source": []
  },
  {
   "cell_type": "code",
   "execution_count": null,
   "metadata": {
    "collapsed": true
   },
   "outputs": [],
   "source": []
  },
  {
   "cell_type": "code",
   "execution_count": null,
   "metadata": {
    "collapsed": true
   },
   "outputs": [],
   "source": []
  },
  {
   "cell_type": "code",
   "execution_count": 102,
   "metadata": {
    "collapsed": false
   },
   "outputs": [
    {
     "data": {
      "text/html": [
       "<div>\n",
       "<table border=\"1\" class=\"dataframe\">\n",
       "  <thead>\n",
       "    <tr style=\"text-align: right;\">\n",
       "      <th></th>\n",
       "      <th>test_file</th>\n",
       "      <th>_class</th>\n",
       "      <th>test_name</th>\n",
       "    </tr>\n",
       "  </thead>\n",
       "  <tbody>\n",
       "    <tr>\n",
       "      <th>0</th>\n",
       "      <td>bokeh/charts/builder/tests/test_area_builder.py</td>\n",
       "      <td>TestAreaBuilder</td>\n",
       "      <td>test_supported_input</td>\n",
       "    </tr>\n",
       "    <tr>\n",
       "      <th>1</th>\n",
       "      <td>bokeh/charts/builder/tests/test_bar_builder.py</td>\n",
       "      <td>TestBar</td>\n",
       "      <td>test_all_negative_input</td>\n",
       "    </tr>\n",
       "    <tr>\n",
       "      <th>2</th>\n",
       "      <td>bokeh/charts/builder/tests/test_bar_builder.py</td>\n",
       "      <td>TestBar</td>\n",
       "      <td>test_all_positive_input</td>\n",
       "    </tr>\n",
       "    <tr>\n",
       "      <th>3</th>\n",
       "      <td>bokeh/charts/builder/tests/test_bar_builder.py</td>\n",
       "      <td>TestBar</td>\n",
       "      <td>test_invalid_continuous_range_raises_error</td>\n",
       "    </tr>\n",
       "    <tr>\n",
       "      <th>4</th>\n",
       "      <td>bokeh/charts/builder/tests/test_bar_builder.py</td>\n",
       "      <td>TestBar</td>\n",
       "      <td>test_mixed_sign_input</td>\n",
       "    </tr>\n",
       "  </tbody>\n",
       "</table>\n",
       "</div>"
      ],
      "text/plain": [
       "                                         test_file           _class  \\\n",
       "0  bokeh/charts/builder/tests/test_area_builder.py  TestAreaBuilder   \n",
       "1   bokeh/charts/builder/tests/test_bar_builder.py          TestBar   \n",
       "2   bokeh/charts/builder/tests/test_bar_builder.py          TestBar   \n",
       "3   bokeh/charts/builder/tests/test_bar_builder.py          TestBar   \n",
       "4   bokeh/charts/builder/tests/test_bar_builder.py          TestBar   \n",
       "\n",
       "                                    test_name  \n",
       "0                        test_supported_input  \n",
       "1                     test_all_negative_input  \n",
       "2                     test_all_positive_input  \n",
       "3  test_invalid_continuous_range_raises_error  \n",
       "4                       test_mixed_sign_input  "
      ]
     },
     "execution_count": 102,
     "metadata": {},
     "output_type": "execute_result"
    }
   ],
   "source": [
    "pytest = pd.read_table('pytest.out', sep='::', names=['test_file', '_class', 'test_name'], engine='python')\n",
    "pytest.test_name = pytest.test_name.str.split(' ').str[0]\n",
    "pytest.head()"
   ]
  },
  {
   "cell_type": "code",
   "execution_count": 103,
   "metadata": {
    "collapsed": false
   },
   "outputs": [
    {
     "data": {
      "text/plain": [
       "TestProperties          20\n",
       "TestChart               15\n",
       "TestResources           13\n",
       "TestColorSpec           11\n",
       "TestColumnDataSourcs    10\n",
       "Name: pytest, dtype: int64"
      ]
     },
     "execution_count": 103,
     "metadata": {},
     "output_type": "execute_result"
    }
   ],
   "source": [
    "pytest_counts = pytest._class.value_counts()\n",
    "pytest_counts.name = 'pytest'\n",
    "pytest_counts.head()"
   ]
  },
  {
   "cell_type": "code",
   "execution_count": 104,
   "metadata": {
    "collapsed": false
   },
   "outputs": [
    {
     "data": {
      "text/plain": [
       "TestProperties          20\n",
       "TestChart               15\n",
       "TestResources           13\n",
       "TestColorSpec           11\n",
       "TestColumnDataSourcs    10\n",
       "Name: nose, dtype: int64"
      ]
     },
     "execution_count": 104,
     "metadata": {},
     "output_type": "execute_result"
    }
   ],
   "source": [
    "nose_counts = nose._class.value_counts()\n",
    "nose_counts.name = 'nose'\n",
    "nose_counts.head()"
   ]
  },
  {
   "cell_type": "code",
   "execution_count": 105,
   "metadata": {
    "collapsed": false
   },
   "outputs": [
    {
     "data": {
      "text/html": [
       "<div>\n",
       "<table border=\"1\" class=\"dataframe\">\n",
       "  <thead>\n",
       "    <tr style=\"text-align: right;\">\n",
       "      <th></th>\n",
       "      <th>pytest</th>\n",
       "      <th>nose</th>\n",
       "      <th>equal</th>\n",
       "    </tr>\n",
       "  </thead>\n",
       "  <tbody>\n",
       "    <tr>\n",
       "      <th>AuthTestCase</th>\n",
       "      <td>NaN</td>\n",
       "      <td>5</td>\n",
       "      <td>False</td>\n",
       "    </tr>\n",
       "    <tr>\n",
       "      <th>PublishTestCase</th>\n",
       "      <td>NaN</td>\n",
       "      <td>2</td>\n",
       "      <td>False</td>\n",
       "    </tr>\n",
       "    <tr>\n",
       "      <th>TestBokehJS</th>\n",
       "      <td>1</td>\n",
       "      <td>NaN</td>\n",
       "      <td>False</td>\n",
       "    </tr>\n",
       "    <tr>\n",
       "      <th>TransactionManagerTestCase</th>\n",
       "      <td>NaN</td>\n",
       "      <td>6</td>\n",
       "      <td>False</td>\n",
       "    </tr>\n",
       "  </tbody>\n",
       "</table>\n",
       "</div>"
      ],
      "text/plain": [
       "                            pytest  nose  equal\n",
       "AuthTestCase                   NaN     5  False\n",
       "PublishTestCase                NaN     2  False\n",
       "TestBokehJS                      1   NaN  False\n",
       "TransactionManagerTestCase     NaN     6  False"
      ]
     },
     "execution_count": 105,
     "metadata": {},
     "output_type": "execute_result"
    }
   ],
   "source": [
    "counts = pd.concat([pytest_counts, nose_counts], axis=1)\n",
    "counts['equal'] = np.where(counts.pytest == counts.nose, True, False)\n",
    "counts[counts.equal == False]"
   ]
  },
  {
   "cell_type": "code",
   "execution_count": 100,
   "metadata": {
    "collapsed": false
   },
   "outputs": [
    {
     "data": {
      "text/plain": [
       "pytest    100\n",
       "nose        1\n",
       "equal       0\n",
       "dtype: float64"
      ]
     },
     "execution_count": 100,
     "metadata": {},
     "output_type": "execute_result"
    }
   ],
   "source": [
    "counts[(counts.equal == False) & (counts.index.str.startswith('test_'))].sum()"
   ]
  },
  {
   "cell_type": "code",
   "execution_count": 108,
   "metadata": {
    "collapsed": false
   },
   "outputs": [
    {
     "data": {
      "text/html": [
       "<div>\n",
       "<table border=\"1\" class=\"dataframe\">\n",
       "  <thead>\n",
       "    <tr style=\"text-align: right;\">\n",
       "      <th></th>\n",
       "      <th>test_name</th>\n",
       "      <th>module</th>\n",
       "      <th>_class</th>\n",
       "    </tr>\n",
       "  </thead>\n",
       "  <tbody>\n",
       "    <tr>\n",
       "      <th>48</th>\n",
       "      <td>test_login_required</td>\n",
       "      <td>(bokeh.server.tests.auth_test)</td>\n",
       "      <td>auth_test</td>\n",
       "    </tr>\n",
       "    <tr>\n",
       "      <th>49</th>\n",
       "      <td>test_handle_auth_error_decorator</td>\n",
       "      <td>(bokeh.server.tests.cow_tests.AuthTestCase)</td>\n",
       "      <td>AuthTestCase</td>\n",
       "    </tr>\n",
       "    <tr>\n",
       "      <th>50</th>\n",
       "      <td>test_permissions_with_temporary_docid</td>\n",
       "      <td>(bokeh.server.tests.cow_tests.AuthTestCase)</td>\n",
       "      <td>AuthTestCase</td>\n",
       "    </tr>\n",
       "    <tr>\n",
       "      <th>51</th>\n",
       "      <td>test_read_auth_checks_both_fields</td>\n",
       "      <td>(bokeh.server.tests.cow_tests.AuthTestCase)</td>\n",
       "      <td>AuthTestCase</td>\n",
       "    </tr>\n",
       "    <tr>\n",
       "      <th>52</th>\n",
       "      <td>test_write_auth_checks_rw_users_field</td>\n",
       "      <td>(bokeh.server.tests.cow_tests.AuthTestCase)</td>\n",
       "      <td>AuthTestCase</td>\n",
       "    </tr>\n",
       "    <tr>\n",
       "      <th>53</th>\n",
       "      <td>test_write_auth_ignores_r_users_field</td>\n",
       "      <td>(bokeh.server.tests.cow_tests.AuthTestCase)</td>\n",
       "      <td>AuthTestCase</td>\n",
       "    </tr>\n",
       "    <tr>\n",
       "      <th>54</th>\n",
       "      <td>test_publish</td>\n",
       "      <td>(bokeh.server.tests.cow_tests.PublishTestCase)</td>\n",
       "      <td>PublishTestCase</td>\n",
       "    </tr>\n",
       "    <tr>\n",
       "      <th>55</th>\n",
       "      <td>test_publish_fails_for_invalid_auth</td>\n",
       "      <td>(bokeh.server.tests.cow_tests.PublishTestCase)</td>\n",
       "      <td>PublishTestCase</td>\n",
       "    </tr>\n",
       "    <tr>\n",
       "      <th>56</th>\n",
       "      <td>test_base_object_exists_in_cow_context</td>\n",
       "      <td>(bokeh.server.tests.cow_tests.TransactionManag...</td>\n",
       "      <td>TransactionManagerTestCase</td>\n",
       "    </tr>\n",
       "    <tr>\n",
       "      <th>57</th>\n",
       "      <td>test_cannot_gc_read_only_context</td>\n",
       "      <td>(bokeh.server.tests.cow_tests.TransactionManag...</td>\n",
       "      <td>TransactionManagerTestCase</td>\n",
       "    </tr>\n",
       "    <tr>\n",
       "      <th>58</th>\n",
       "      <td>test_cannot_save_to_read_only_context</td>\n",
       "      <td>(bokeh.server.tests.cow_tests.TransactionManag...</td>\n",
       "      <td>TransactionManagerTestCase</td>\n",
       "    </tr>\n",
       "    <tr>\n",
       "      <th>59</th>\n",
       "      <td>test_transaction_with_anonymous_user</td>\n",
       "      <td>(bokeh.server.tests.cow_tests.TransactionManag...</td>\n",
       "      <td>TransactionManagerTestCase</td>\n",
       "    </tr>\n",
       "    <tr>\n",
       "      <th>60</th>\n",
       "      <td>test_writing_in_cow_context_does_not_modify_or...</td>\n",
       "      <td>(bokeh.server.tests.cow_tests.TransactionManag...</td>\n",
       "      <td>TransactionManagerTestCase</td>\n",
       "    </tr>\n",
       "    <tr>\n",
       "      <th>61</th>\n",
       "      <td>test_writing_in_cow_context_persists</td>\n",
       "      <td>(bokeh.server.tests.cow_tests.TransactionManag...</td>\n",
       "      <td>TransactionManagerTestCase</td>\n",
       "    </tr>\n",
       "    <tr>\n",
       "      <th>147</th>\n",
       "      <td>test_with_request</td>\n",
       "      <td>(bokeh.tests.test_io.testCurdoc)</td>\n",
       "      <td>testCurdoc</td>\n",
       "    </tr>\n",
       "    <tr>\n",
       "      <th>148</th>\n",
       "      <td>test</td>\n",
       "      <td>(bokeh.tests.test_io.testCurdoc)</td>\n",
       "      <td>testCurdoc</td>\n",
       "    </tr>\n",
       "    <tr>\n",
       "      <th>149</th>\n",
       "      <td>test</td>\n",
       "      <td>(bokeh.tests.test_io.testCursession)</td>\n",
       "      <td>testCursession</td>\n",
       "    </tr>\n",
       "    <tr>\n",
       "      <th>150</th>\n",
       "      <td>test_noarg</td>\n",
       "      <td>(bokeh.tests.test_io.testOutputFile)</td>\n",
       "      <td>testOutputFile</td>\n",
       "    </tr>\n",
       "    <tr>\n",
       "      <th>151</th>\n",
       "      <td>test_args</td>\n",
       "      <td>(bokeh.tests.test_io.testOutputFile)</td>\n",
       "      <td>testOutputFile</td>\n",
       "    </tr>\n",
       "    <tr>\n",
       "      <th>175</th>\n",
       "      <td>test_simple_class</td>\n",
       "      <td>(bokeh.tests.test_properties.Basictest)</td>\n",
       "      <td>Basictest</td>\n",
       "    </tr>\n",
       "    <tr>\n",
       "      <th>176</th>\n",
       "      <td>test_set</td>\n",
       "      <td>(bokeh.tests.test_properties.Basictest)</td>\n",
       "      <td>Basictest</td>\n",
       "    </tr>\n",
       "    <tr>\n",
       "      <th>177</th>\n",
       "      <td>test_no_parens</td>\n",
       "      <td>(bokeh.tests.test_properties.Basictest)</td>\n",
       "      <td>Basictest</td>\n",
       "    </tr>\n",
       "    <tr>\n",
       "      <th>178</th>\n",
       "      <td>test_inheritance</td>\n",
       "      <td>(bokeh.tests.test_properties.Basictest)</td>\n",
       "      <td>Basictest</td>\n",
       "    </tr>\n",
       "    <tr>\n",
       "      <th>179</th>\n",
       "      <td>test_enum</td>\n",
       "      <td>(bokeh.tests.test_properties.Basictest)</td>\n",
       "      <td>Basictest</td>\n",
       "    </tr>\n",
       "    <tr>\n",
       "      <th>219</th>\n",
       "      <td>test_HasProps_clone</td>\n",
       "      <td>(bokeh.tests.test_properties)</td>\n",
       "      <td>test_properties</td>\n",
       "    </tr>\n",
       "  </tbody>\n",
       "</table>\n",
       "</div>"
      ],
      "text/plain": [
       "                                             test_name  \\\n",
       "48                                 test_login_required   \n",
       "49                    test_handle_auth_error_decorator   \n",
       "50               test_permissions_with_temporary_docid   \n",
       "51                   test_read_auth_checks_both_fields   \n",
       "52               test_write_auth_checks_rw_users_field   \n",
       "53               test_write_auth_ignores_r_users_field   \n",
       "54                                        test_publish   \n",
       "55                 test_publish_fails_for_invalid_auth   \n",
       "56              test_base_object_exists_in_cow_context   \n",
       "57                    test_cannot_gc_read_only_context   \n",
       "58               test_cannot_save_to_read_only_context   \n",
       "59                test_transaction_with_anonymous_user   \n",
       "60   test_writing_in_cow_context_does_not_modify_or...   \n",
       "61                test_writing_in_cow_context_persists   \n",
       "147                                  test_with_request   \n",
       "148                                               test   \n",
       "149                                               test   \n",
       "150                                         test_noarg   \n",
       "151                                          test_args   \n",
       "175                                  test_simple_class   \n",
       "176                                           test_set   \n",
       "177                                     test_no_parens   \n",
       "178                                   test_inheritance   \n",
       "179                                          test_enum   \n",
       "219                                test_HasProps_clone   \n",
       "\n",
       "                                                module  \\\n",
       "48                      (bokeh.server.tests.auth_test)   \n",
       "49         (bokeh.server.tests.cow_tests.AuthTestCase)   \n",
       "50         (bokeh.server.tests.cow_tests.AuthTestCase)   \n",
       "51         (bokeh.server.tests.cow_tests.AuthTestCase)   \n",
       "52         (bokeh.server.tests.cow_tests.AuthTestCase)   \n",
       "53         (bokeh.server.tests.cow_tests.AuthTestCase)   \n",
       "54      (bokeh.server.tests.cow_tests.PublishTestCase)   \n",
       "55      (bokeh.server.tests.cow_tests.PublishTestCase)   \n",
       "56   (bokeh.server.tests.cow_tests.TransactionManag...   \n",
       "57   (bokeh.server.tests.cow_tests.TransactionManag...   \n",
       "58   (bokeh.server.tests.cow_tests.TransactionManag...   \n",
       "59   (bokeh.server.tests.cow_tests.TransactionManag...   \n",
       "60   (bokeh.server.tests.cow_tests.TransactionManag...   \n",
       "61   (bokeh.server.tests.cow_tests.TransactionManag...   \n",
       "147                   (bokeh.tests.test_io.testCurdoc)   \n",
       "148                   (bokeh.tests.test_io.testCurdoc)   \n",
       "149               (bokeh.tests.test_io.testCursession)   \n",
       "150               (bokeh.tests.test_io.testOutputFile)   \n",
       "151               (bokeh.tests.test_io.testOutputFile)   \n",
       "175            (bokeh.tests.test_properties.Basictest)   \n",
       "176            (bokeh.tests.test_properties.Basictest)   \n",
       "177            (bokeh.tests.test_properties.Basictest)   \n",
       "178            (bokeh.tests.test_properties.Basictest)   \n",
       "179            (bokeh.tests.test_properties.Basictest)   \n",
       "219                      (bokeh.tests.test_properties)   \n",
       "\n",
       "                         _class  \n",
       "48                    auth_test  \n",
       "49                 AuthTestCase  \n",
       "50                 AuthTestCase  \n",
       "51                 AuthTestCase  \n",
       "52                 AuthTestCase  \n",
       "53                 AuthTestCase  \n",
       "54              PublishTestCase  \n",
       "55              PublishTestCase  \n",
       "56   TransactionManagerTestCase  \n",
       "57   TransactionManagerTestCase  \n",
       "58   TransactionManagerTestCase  \n",
       "59   TransactionManagerTestCase  \n",
       "60   TransactionManagerTestCase  \n",
       "61   TransactionManagerTestCase  \n",
       "147                  testCurdoc  \n",
       "148                  testCurdoc  \n",
       "149              testCursession  \n",
       "150              testOutputFile  \n",
       "151              testOutputFile  \n",
       "175                   Basictest  \n",
       "176                   Basictest  \n",
       "177                   Basictest  \n",
       "178                   Basictest  \n",
       "179                   Basictest  \n",
       "219             test_properties  "
      ]
     },
     "execution_count": 108,
     "metadata": {},
     "output_type": "execute_result"
    }
   ],
   "source": [
    "nose[~nose._class.str.startswith('Test')]"
   ]
  },
  {
   "cell_type": "code",
   "execution_count": 109,
   "metadata": {
    "collapsed": false
   },
   "outputs": [
    {
     "data": {
      "text/html": [
       "<div>\n",
       "<table border=\"1\" class=\"dataframe\">\n",
       "  <thead>\n",
       "    <tr style=\"text-align: right;\">\n",
       "      <th></th>\n",
       "      <th>test_file</th>\n",
       "      <th>_class</th>\n",
       "      <th>test_name</th>\n",
       "    </tr>\n",
       "  </thead>\n",
       "  <tbody>\n",
       "    <tr>\n",
       "      <th>48</th>\n",
       "      <td>bokeh/server/tests/auth_test.py</td>\n",
       "      <td>auth_test</td>\n",
       "      <td>test_login_required</td>\n",
       "    </tr>\n",
       "    <tr>\n",
       "      <th>100</th>\n",
       "      <td>bokeh/tests/test_io.py</td>\n",
       "      <td>testCurdoc</td>\n",
       "      <td>test_with_request</td>\n",
       "    </tr>\n",
       "    <tr>\n",
       "      <th>101</th>\n",
       "      <td>bokeh/tests/test_io.py</td>\n",
       "      <td>testCurdoc</td>\n",
       "      <td>test</td>\n",
       "    </tr>\n",
       "    <tr>\n",
       "      <th>102</th>\n",
       "      <td>bokeh/tests/test_io.py</td>\n",
       "      <td>testCursession</td>\n",
       "      <td>test</td>\n",
       "    </tr>\n",
       "    <tr>\n",
       "      <th>103</th>\n",
       "      <td>bokeh/tests/test_io.py</td>\n",
       "      <td>testOutputFile</td>\n",
       "      <td>test_noarg</td>\n",
       "    </tr>\n",
       "    <tr>\n",
       "      <th>104</th>\n",
       "      <td>bokeh/tests/test_io.py</td>\n",
       "      <td>testOutputFile</td>\n",
       "      <td>test_args</td>\n",
       "    </tr>\n",
       "    <tr>\n",
       "      <th>155</th>\n",
       "      <td>bokeh/tests/test_properties.py</td>\n",
       "      <td>Basictest</td>\n",
       "      <td>test_simple_class</td>\n",
       "    </tr>\n",
       "    <tr>\n",
       "      <th>156</th>\n",
       "      <td>bokeh/tests/test_properties.py</td>\n",
       "      <td>Basictest</td>\n",
       "      <td>test_set</td>\n",
       "    </tr>\n",
       "    <tr>\n",
       "      <th>157</th>\n",
       "      <td>bokeh/tests/test_properties.py</td>\n",
       "      <td>Basictest</td>\n",
       "      <td>test_no_parens</td>\n",
       "    </tr>\n",
       "    <tr>\n",
       "      <th>158</th>\n",
       "      <td>bokeh/tests/test_properties.py</td>\n",
       "      <td>Basictest</td>\n",
       "      <td>test_inheritance</td>\n",
       "    </tr>\n",
       "    <tr>\n",
       "      <th>159</th>\n",
       "      <td>bokeh/tests/test_properties.py</td>\n",
       "      <td>Basictest</td>\n",
       "      <td>test_enum</td>\n",
       "    </tr>\n",
       "    <tr>\n",
       "      <th>199</th>\n",
       "      <td>bokeh/tests/test_properties.py</td>\n",
       "      <td>test_properties</td>\n",
       "      <td>test_HasProps_clone</td>\n",
       "    </tr>\n",
       "  </tbody>\n",
       "</table>\n",
       "</div>"
      ],
      "text/plain": [
       "                           test_file           _class            test_name\n",
       "48   bokeh/server/tests/auth_test.py        auth_test  test_login_required\n",
       "100           bokeh/tests/test_io.py       testCurdoc    test_with_request\n",
       "101           bokeh/tests/test_io.py       testCurdoc                 test\n",
       "102           bokeh/tests/test_io.py   testCursession                 test\n",
       "103           bokeh/tests/test_io.py   testOutputFile           test_noarg\n",
       "104           bokeh/tests/test_io.py   testOutputFile            test_args\n",
       "155   bokeh/tests/test_properties.py        Basictest    test_simple_class\n",
       "156   bokeh/tests/test_properties.py        Basictest             test_set\n",
       "157   bokeh/tests/test_properties.py        Basictest       test_no_parens\n",
       "158   bokeh/tests/test_properties.py        Basictest     test_inheritance\n",
       "159   bokeh/tests/test_properties.py        Basictest            test_enum\n",
       "199   bokeh/tests/test_properties.py  test_properties  test_HasProps_clone"
      ]
     },
     "execution_count": 109,
     "metadata": {},
     "output_type": "execute_result"
    }
   ],
   "source": [
    "pytest[~pytest._class.str.startswith('Test')]"
   ]
  },
  {
   "cell_type": "code",
   "execution_count": null,
   "metadata": {
    "collapsed": true
   },
   "outputs": [],
   "source": []
  }
 ],
 "metadata": {
  "kernelspec": {
   "display_name": "Python 3",
   "language": "python",
   "name": "python3"
  },
  "language_info": {
   "codemirror_mode": {
    "name": "ipython",
    "version": 3
   },
   "file_extension": ".py",
   "mimetype": "text/x-python",
   "name": "python",
   "nbconvert_exporter": "python",
   "pygments_lexer": "ipython3",
   "version": "3.4.3"
  }
 },
 "nbformat": 4,
 "nbformat_minor": 0
}
